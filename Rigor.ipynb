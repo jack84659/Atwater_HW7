{
  "nbformat": 4,
  "nbformat_minor": 0,
  "metadata": {
    "colab": {
      "provenance": [],
      "authorship_tag": "ABX9TyMv94Dc06bI6gZoQ3hZPvvH",
      "include_colab_link": true
    },
    "kernelspec": {
      "name": "python3",
      "display_name": "Python 3"
    },
    "language_info": {
      "name": "python"
    }
  },
  "cells": [
    {
      "cell_type": "markdown",
      "metadata": {
        "id": "view-in-github",
        "colab_type": "text"
      },
      "source": [
        "<a href=\"https://colab.research.google.com/github/jack84659/Atwater_HW7/blob/main/Rigor.ipynb\" target=\"_parent\"><img src=\"https://colab.research.google.com/assets/colab-badge.svg\" alt=\"Open In Colab\"/></a>"
      ]
    },
    {
      "cell_type": "code",
      "execution_count": 2,
      "metadata": {
        "colab": {
          "base_uri": "https://localhost:8080/"
        },
        "id": "uCi7NfotgtG0",
        "outputId": "d46948f9-01bc-4d19-882d-62faaa7ed887"
      },
      "outputs": [
        {
          "output_type": "stream",
          "name": "stdout",
          "text": [
            "Date: 20231029\n",
            "12\n"
          ]
        }
      ],
      "source": [
        "print(\"Date: 20231029\")\n",
        "y = 3*4\n",
        "print(y)"
      ]
    },
    {
      "cell_type": "markdown",
      "source": [
        "Repositories like Github are very useful for organizing my computational work. I often use Colab and Github seemlessly connects to Colab, allowing me to store all my files in one place. Also, Github is backed up, which gives secondary storage beyond my personal computer. I can also link to my datasets and annotate any changes/analyses. Also, a great thing about Github is that I can collaborate easily with other scientists. This will help prevent the problem of sharing files between people and keeping track of versions without any clear system. Overall, repositories like Github make it possible to maintain organization with ease."
      ],
      "metadata": {
        "id": "fJmnjkXhjG9B"
      }
    }
  ]
}